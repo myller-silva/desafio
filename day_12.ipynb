{
 "cells": [
  {
   "cell_type": "code",
   "execution_count": 138,
   "metadata": {},
   "outputs": [],
   "source": [
    "from collections import deque"
   ]
  },
  {
   "cell_type": "markdown",
   "metadata": {},
   "source": [
    "# Part 1"
   ]
  },
  {
   "cell_type": "code",
   "execution_count": 139,
   "metadata": {},
   "outputs": [
    {
     "name": "stdout",
     "output_type": "stream",
     "text": [
      "Preço total: 1533024\n"
     ]
    }
   ],
   "source": [
    "def parse_map(garden_map):\n",
    "    return [list(row) for row in garden_map.split(\"\\n\")]\n",
    "\n",
    "def bfs(grid, start, visited, plant_type):\n",
    "    area = 0\n",
    "    perimeter = 0\n",
    "    rows, cols = len(grid), len(grid[0])\n",
    "    queue = deque([start])\n",
    "    visited[start[0]][start[1]] = True\n",
    "\n",
    "    directions = [(-1, 0), (1, 0), (0, -1), (0, 1)] # esquerda, direita, cima, baixo\n",
    "\n",
    "    while queue:\n",
    "        x, y = queue.popleft()\n",
    "        area += 1\n",
    "        local_perimeter = 4\n",
    "\n",
    "        for dx, dy in directions:\n",
    "            nx, ny = x + dx, y + dy\n",
    "            if 0 <= nx < rows and 0 <= ny < cols:\n",
    "                if grid[nx][ny] == plant_type:\n",
    "                    if not visited[nx][ny]:\n",
    "                        queue.append((nx, ny))\n",
    "                        visited[nx][ny] = True\n",
    "                    local_perimeter -= 1\n",
    "\n",
    "        perimeter += local_perimeter\n",
    "\n",
    "    return area, perimeter\n",
    "\n",
    "def calculate_total_price(garden_map):\n",
    "    grid = parse_map(garden_map)\n",
    "    rows, cols = len(grid), len(grid[0])\n",
    "    visited = [[False] * cols for _ in range(rows)]\n",
    "    total_price = 0\n",
    "\n",
    "    for i in range(rows):\n",
    "        for j in range(cols):\n",
    "            if not visited[i][j]:\n",
    "                plant_type = grid[i][j]\n",
    "                area, perimeter = bfs(grid, (i, j), visited, plant_type)\n",
    "                # print(f\"Área: {area}, Perímetro: {perimeter}, Planta: {plant_type}, Preço: {area * perimeter}\")\n",
    "                total_price += area * perimeter\n",
    "\n",
    "    return total_price\n",
    "\n",
    "\n",
    "with open(\"inputs/12.txt\", \"r\") as file:\n",
    "    content = file.read().strip()\n",
    "\n",
    "\n",
    "total_price = calculate_total_price(content)\n",
    "print(f\"Preço total: {total_price}\")\n"
   ]
  },
  {
   "cell_type": "markdown",
   "metadata": {},
   "source": [
    "# Part 2"
   ]
  },
  {
   "cell_type": "code",
   "execution_count": 140,
   "metadata": {},
   "outputs": [
    {
     "name": "stdout",
     "output_type": "stream",
     "text": [
      "Preço total com os lados corrigido: 59361\n"
     ]
    }
   ],
   "source": [
    "\n",
    "def parse_map(garden_map):\n",
    "    # Converte o mapa em uma matriz (lista de listas)\n",
    "    return [list(row) for row in garden_map.split(\"\\n\")]\n",
    "\n",
    "def bfs(grid, start, visited, plant_type):\n",
    "    # Inicializa área e número de lados\n",
    "    area = 0\n",
    "    sides = 0\n",
    "    rows, cols = len(grid), len(grid[0])\n",
    "    queue = deque([start])\n",
    "    visited[start[0]][start[1]] = True\n",
    "\n",
    "    # Direções para cima, baixo, esquerda e direita\n",
    "    directions = [(-1, 0), (1, 0), (0, -1), (0, 1)]\n",
    "\n",
    "    while queue:\n",
    "        x, y = queue.popleft()\n",
    "        area += 1  # Incrementa a área para cada célula da região\n",
    "\n",
    "        for dx, dy in directions:\n",
    "            nx, ny = x + dx, y + dy\n",
    "\n",
    "            # Verifica se a próxima posição está dentro dos limites\n",
    "            if 0 <= nx < rows and 0 <= ny < cols:\n",
    "                if grid[nx][ny] == plant_type:\n",
    "                    # Se a célula pertence à mesma região e ainda não foi visitada\n",
    "                    if not visited[nx][ny]:\n",
    "                        queue.append((nx, ny))\n",
    "                        visited[nx][ny] = True\n",
    "                # else:\n",
    "                #     # Conta o lado como uma borda externa\n",
    "                #     sides += 1\n",
    "            else:\n",
    "                # Fora dos limites do mapa, conta como borda\n",
    "                sides += 1\n",
    "\n",
    "    return area, sides\n",
    "\n",
    "def calculate_total_price_with_sides(garden_map):\n",
    "    grid = parse_map(garden_map)\n",
    "    rows, cols = len(grid), len(grid[0])\n",
    "    visited = [[False] * cols for _ in range(rows)]\n",
    "    total_price = 0\n",
    "\n",
    "    for i in range(rows):\n",
    "        for j in range(cols):\n",
    "            if not visited[i][j]:\n",
    "                plant_type = grid[i][j]\n",
    "                area, sides = bfs(grid, (i, j), visited, plant_type)\n",
    "                total_price += area * sides  # Preço é área vezes lados\n",
    "\n",
    "    return total_price\n",
    "\n",
    "# Leitura do arquivo .txt\n",
    "with open(\"inputs/12.txt\", \"r\") as file:\n",
    "    garden_map = file.read().strip()\n",
    "\n",
    "# Calcula o preço total\n",
    "total_price = calculate_total_price_with_sides(garden_map)\n",
    "print(f\"Preço total com os lados corrigido: {total_price}\")\n"
   ]
  },
  {
   "cell_type": "code",
   "execution_count": 141,
   "metadata": {},
   "outputs": [
    {
     "data": {
      "text/plain": [
       "411"
      ]
     },
     "execution_count": 141,
     "metadata": {},
     "output_type": "execute_result"
    }
   ],
   "source": [
    "test = \"\"\"RRRRIICCFF\n",
    "RRRRIICCCF\n",
    "VVRRRCCFFF\n",
    "VVRCCCJFFF\n",
    "VVVVCJJCFE\n",
    "VVIVCCJJEE\n",
    "VVIIICJJEE\n",
    "MIIIIIJJEE\n",
    "MIIISIJEEE\n",
    "MMMISSJEEE\n",
    "\"\"\"\n",
    "# print(parse_map(test.strip()))\n",
    "calculate_total_price_with_sides(test.strip())"
   ]
  },
  {
   "cell_type": "code",
   "execution_count": 142,
   "metadata": {},
   "outputs": [
    {
     "name": "stdout",
     "output_type": "stream",
     "text": [
      "Tipo: R Posições: [(0, 0), (0, 1), (0, 2), (0, 3), (1, 0), (1, 1), (1, 2), (1, 3), (2, 2), (2, 3), (2, 4), (3, 2)]\n",
      "Tipo: I Posições: [(0, 4), (0, 5), (1, 4), (1, 5), (5, 2), (6, 2), (6, 3), (6, 4), (7, 1), (7, 2), (7, 3), (7, 4), (7, 5), (8, 1), (8, 2), (8, 3), (8, 5), (9, 3)]\n",
      "Tipo: C Posições: [(0, 6), (0, 7), (1, 6), (1, 7), (1, 8), (2, 5), (2, 6), (3, 3), (3, 4), (3, 5), (4, 4), (4, 7), (5, 4), (5, 5), (6, 5)]\n",
      "Tipo: F Posições: [(0, 8), (0, 9), (1, 9), (2, 7), (2, 8), (2, 9), (3, 7), (3, 8), (3, 9), (4, 8)]\n",
      "Tipo: V Posições: [(2, 0), (2, 1), (3, 0), (3, 1), (4, 0), (4, 1), (4, 2), (4, 3), (5, 0), (5, 1), (5, 3), (6, 0), (6, 1)]\n",
      "Tipo: J Posições: [(3, 6), (4, 5), (4, 6), (5, 6), (5, 7), (6, 6), (6, 7), (7, 6), (7, 7), (8, 6), (9, 6)]\n",
      "Tipo: E Posições: [(4, 9), (5, 8), (5, 9), (6, 8), (6, 9), (7, 8), (7, 9), (8, 7), (8, 8), (8, 9), (9, 7), (9, 8), (9, 9)]\n",
      "Tipo: M Posições: [(7, 0), (8, 0), (9, 0), (9, 1), (9, 2)]\n",
      "Tipo: S Posições: [(8, 4), (9, 4), (9, 5)]\n"
     ]
    }
   ],
   "source": [
    "def sort_list_points(list_points):\n",
    "    return sorted(list_points, key=lambda x: (x[0], x[1]))\n",
    "\n",
    "\n",
    "def bfs_positions(grid, start, visited, node_type):\n",
    "    nodes = []\n",
    "    rows, cols = len(grid), len(grid[0])\n",
    "    queue = deque([start])\n",
    "    visited[start[0]][start[1]] = True\n",
    "    directions = [(-1, 0), (1, 0), (0, -1), (0, 1)]  # cima, baixo, esquerda, direita\n",
    "    while queue:\n",
    "        x, y = queue.popleft()\n",
    "        nodes.append((x, y))  \n",
    "        for dx, dy in directions:\n",
    "            nx, ny = x + dx, y + dy\n",
    "            if 0 <= nx < rows and 0 <= ny < cols and not visited[nx][ny]:\n",
    "                if grid[nx][ny] == node_type:\n",
    "                    visited[nx][ny] = True\n",
    "                    queue.append((nx, ny))\n",
    "    return nodes\n",
    "\n",
    "\n",
    "grid = parse_map(test.strip())\n",
    "\n",
    "dict_positions = {}\n",
    "for dx in range(len(grid)):\n",
    "    for dy in range(len(grid[0])):\n",
    "        if grid[dx][dy] not in dict_positions:\n",
    "            dict_positions[grid[dx][dy]] = []\n",
    "        dict_positions[grid[dx][dy]].append((dx, dy))\n",
    "\n",
    "for n in dict_positions:\n",
    "    print(f\"Tipo: {n}\", \"Posições:\", dict_positions[n])\n",
    "\n"
   ]
  },
  {
   "cell_type": "code",
   "execution_count": null,
   "metadata": {},
   "outputs": [],
   "source": []
  },
  {
   "cell_type": "code",
   "execution_count": null,
   "metadata": {},
   "outputs": [],
   "source": []
  }
 ],
 "metadata": {
  "kernelspec": {
   "display_name": "Python 3",
   "language": "python",
   "name": "python3"
  },
  "language_info": {
   "codemirror_mode": {
    "name": "ipython",
    "version": 3
   },
   "file_extension": ".py",
   "mimetype": "text/x-python",
   "name": "python",
   "nbconvert_exporter": "python",
   "pygments_lexer": "ipython3",
   "version": "3.11.4"
  }
 },
 "nbformat": 4,
 "nbformat_minor": 2
}
