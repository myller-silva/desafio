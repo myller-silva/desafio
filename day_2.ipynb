{
 "cells": [
  {
   "cell_type": "markdown",
   "metadata": {},
   "source": [
    "Preprocess"
   ]
  },
  {
   "cell_type": "code",
   "execution_count": 1,
   "metadata": {},
   "outputs": [],
   "source": [
    "def read_line(line):\n",
    "    result = []\n",
    "    for number in line:\n",
    "        result.append(int(number))\n",
    "    return result\n",
    "\n",
    "\n",
    "def read_file(file_name):\n",
    "    content = []\n",
    "    with open(file_name, 'r') as file:\n",
    "        for line in file:\n",
    "            line = line.split(\"\\n\")[0]\n",
    "            content.append(read_line(line.split(\" \")))\n",
    "    return content\n",
    "\n",
    "reports = read_file(\"inputs/2.txt\")"
   ]
  },
  {
   "cell_type": "markdown",
   "metadata": {},
   "source": [
    "# Part 1"
   ]
  },
  {
   "cell_type": "code",
   "execution_count": 2,
   "metadata": {},
   "outputs": [
    {
     "data": {
      "text/plain": [
       "230"
      ]
     },
     "execution_count": 2,
     "metadata": {},
     "output_type": "execute_result"
    }
   ],
   "source": [
    "def is_safe(report, bounds = (1, 3)):\n",
    "    x0 = report[0]\n",
    "    \n",
    "    previous_sign = None\n",
    "    \n",
    "    for i in range(1, len(report)):\n",
    "        diff = x0 - report[i]\n",
    "        if not (bounds[0] <= abs(diff) <= bounds[1]):\n",
    "            return False\n",
    "        \n",
    "        current_sign = 1 if diff > 0 else (-1 if diff < 0 else 0)\n",
    "        if previous_sign is not None and current_sign != previous_sign:\n",
    "            return False  # Houve mudança de sinal\n",
    "        \n",
    "        previous_sign = current_sign\n",
    "        x0 = report[i]\n",
    "        \n",
    "    return True\n",
    "\n",
    "\n",
    "def count_is_safe(reports):\n",
    "    count = 0\n",
    "    \n",
    "    for report in reports:\n",
    "        if is_safe(report):\n",
    "            count += 1\n",
    "        \n",
    "    return count\n",
    "\n",
    "count_is_safe(reports)"
   ]
  },
  {
   "cell_type": "markdown",
   "metadata": {},
   "source": [
    "Test"
   ]
  },
  {
   "cell_type": "code",
   "execution_count": 3,
   "metadata": {},
   "outputs": [
    {
     "name": "stdout",
     "output_type": "stream",
     "text": [
      "True\n",
      "False\n",
      "False\n",
      "False\n",
      "False\n",
      "True\n"
     ]
    }
   ],
   "source": [
    "print(is_safe([7, 6, 4, 2, 1]))\n",
    "print(is_safe([1, 2, 7, 8, 9]))\n",
    "print(is_safe([9, 7, 6, 2, 1]))\n",
    "print(is_safe([1, 3, 2, 4, 5]))\n",
    "print(is_safe([8, 6, 4, 4, 1]))\n",
    "print(is_safe([1, 3, 6, 7, 9]))"
   ]
  },
  {
   "cell_type": "markdown",
   "metadata": {},
   "source": [
    "# Part 2"
   ]
  },
  {
   "cell_type": "code",
   "execution_count": 6,
   "metadata": {},
   "outputs": [
    {
     "data": {
      "text/plain": [
       "301"
      ]
     },
     "execution_count": 6,
     "metadata": {},
     "output_type": "execute_result"
    }
   ],
   "source": [
    "def is_safe(report, bounds = (1, 3)):\n",
    "    x0 = report[0]\n",
    "    \n",
    "    previous_sign = None\n",
    "    \n",
    "    for i in range(1, len(report)):\n",
    "        diff = x0 - report[i]\n",
    "        if not (bounds[0] <= abs(diff) <= bounds[1]):\n",
    "            return False\n",
    "        \n",
    "        current_sign = 1 if diff > 0 else (-1 if diff < 0 else 0)\n",
    "        if previous_sign is not None and current_sign != previous_sign:\n",
    "            return False  # Houve mudança de sinal\n",
    "        \n",
    "        previous_sign = current_sign\n",
    "        x0 = report[i]\n",
    "        \n",
    "    return True\n",
    "\n",
    "def is_safe_with_removed_one(report):\n",
    "    for i, x in enumerate(report):\n",
    "        temp = report[:i] + report[i+1:]\n",
    "        # print(temp, x)\n",
    "        if is_safe(temp):\n",
    "            return True\n",
    "    return False\n",
    "\n",
    "def count_is_safe(reports):\n",
    "    count = 0\n",
    "    \n",
    "    for report in reports:\n",
    "        if is_safe(report):\n",
    "            count += 1\n",
    "        elif is_safe_with_removed_one(report):\n",
    "            count += 1\n",
    "    return count\n",
    "\n",
    "count_is_safe(reports)"
   ]
  },
  {
   "cell_type": "code",
   "execution_count": 7,
   "metadata": {},
   "outputs": [
    {
     "name": "stdout",
     "output_type": "stream",
     "text": [
      "True\n",
      "False\n",
      "False\n",
      "True\n",
      "True\n",
      "True\n"
     ]
    }
   ],
   "source": [
    "print(is_safe_with_removed_one([7, 6, 4, 2, 1]))\n",
    "print(is_safe_with_removed_one([1, 2, 7, 8, 9]))\n",
    "print(is_safe_with_removed_one([9, 7, 6, 2, 1]))\n",
    "print(is_safe_with_removed_one([1, 3, 2, 4, 5]))\n",
    "print(is_safe_with_removed_one([8, 6, 4, 4, 1]))\n",
    "print(is_safe_with_removed_one([1, 3, 6, 7, 9]))"
   ]
  }
 ],
 "metadata": {
  "kernelspec": {
   "display_name": "Python 3",
   "language": "python",
   "name": "python3"
  },
  "language_info": {
   "codemirror_mode": {
    "name": "ipython",
    "version": 3
   },
   "file_extension": ".py",
   "mimetype": "text/x-python",
   "name": "python",
   "nbconvert_exporter": "python",
   "pygments_lexer": "ipython3",
   "version": "3.10.12"
  }
 },
 "nbformat": 4,
 "nbformat_minor": 2
}
