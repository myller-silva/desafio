{
 "cells": [
  {
   "cell_type": "code",
   "execution_count": 76,
   "metadata": {},
   "outputs": [
    {
     "data": {
      "text/plain": [
       "(1176, 175)"
      ]
     },
     "execution_count": 76,
     "metadata": {},
     "output_type": "execute_result"
    }
   ],
   "source": [
    "def read_file(file):\n",
    "    rules = []\n",
    "    atualizations = []\n",
    "    flag = False\n",
    "    with open(file, 'r') as f:\n",
    "        for line in f:\n",
    "            if line == '\\n':\n",
    "                flag = True\n",
    "                continue\n",
    "\n",
    "            if not flag:\n",
    "                rules.append(line.strip())\n",
    "            else:\n",
    "                atualizations.append(line.strip())\n",
    "                \n",
    "    return rules, atualizations\n",
    "\n",
    "rules, atualizations = read_file('inputs/5.txt')\n",
    "len(rules), len(atualizations)"
   ]
  },
  {
   "cell_type": "code",
   "execution_count": 77,
   "metadata": {},
   "outputs": [
    {
     "name": "stdout",
     "output_type": "stream",
     "text": [
      "['45|19', '55|17', '55|38', '58|41', '58|46']\n",
      "['56,79,55,52,85,41,61,97,64,72,86,46,58,48,96,62,76,12,13', '16,95,77,51,17,49,33,56,97', '95,38,49,61,32,19,77,22,13,27,56', '84,22,89,64,45,79,34,85,72,96,48,55,29', '84,34,18,93,63,16,95,77,51,32,17,26,54,27,44,11,19,42,28,38,49,33,56']\n"
     ]
    }
   ],
   "source": [
    "print(rules[:5])\n",
    "print(atualizations[:5])"
   ]
  },
  {
   "cell_type": "markdown",
   "metadata": {},
   "source": [
    "# Part 1"
   ]
  },
  {
   "cell_type": "code",
   "execution_count": 78,
   "metadata": {},
   "outputs": [],
   "source": [
    "# Processar as regras para pares (A, B)\n",
    "pares = [tuple(map(int, regra.split('|'))) for regra in rules]"
   ]
  },
  {
   "cell_type": "code",
   "execution_count": 79,
   "metadata": {},
   "outputs": [
    {
     "data": {
      "text/plain": [
       "[(45, 19), (55, 17), (55, 38), (58, 41), (58, 46)]"
      ]
     },
     "execution_count": 79,
     "metadata": {},
     "output_type": "execute_result"
    }
   ],
   "source": [
    "pares[:5]"
   ]
  },
  {
   "cell_type": "code",
   "execution_count": 80,
   "metadata": {},
   "outputs": [],
   "source": [
    "accumulated = 0\n",
    "for i, lista in enumerate(atualizations):\n",
    "    numeros = list(map(int, lista.split(',')))\n",
    "    sequence_valid = True\n",
    "    for a, b in pares:\n",
    "        if a in numeros and b in numeros:\n",
    "            pos_a = numeros.index(a)\n",
    "            pos_b = numeros.index(b)\n",
    "            if pos_a >= pos_b:  # Regra violada\n",
    "                sequence_valid = False\n",
    "                break\n",
    "    if sequence_valid:\n",
    "        # somar o valor do meio ao acumulado\n",
    "        mid = len(numeros)//2\n",
    "        accumulated += numeros[mid]\n",
    "        # break\n",
    "    "
   ]
  },
  {
   "cell_type": "code",
   "execution_count": 81,
   "metadata": {},
   "outputs": [
    {
     "data": {
      "text/plain": [
       "4185"
      ]
     },
     "execution_count": 81,
     "metadata": {},
     "output_type": "execute_result"
    }
   ],
   "source": [
    "accumulated"
   ]
  },
  {
   "cell_type": "markdown",
   "metadata": {},
   "source": [
    "# Part 2"
   ]
  },
  {
   "cell_type": "code",
   "execution_count": null,
   "metadata": {},
   "outputs": [
    {
     "name": "stdout",
     "output_type": "stream",
     "text": [
      "4480\n"
     ]
    }
   ],
   "source": [
    "from collections import defaultdict, deque\n",
    "\n",
    "# grafos para as dependências\n",
    "pages_before = defaultdict(set)\n",
    "pages_after = defaultdict(set)\n",
    "\n",
    "for a, b in pares:\n",
    "    pages_before[b].add(a)\n",
    "    pages_after[a].add(b)\n",
    "\n",
    "\n",
    "accumulated = 0\n",
    "\n",
    "# verifica se a sequência respeita as regras de precedência\n",
    "def is_sequence_valid(sequence, pages_before): \n",
    "    for i, x in enumerate(sequence):\n",
    "        for j, y in enumerate(sequence):\n",
    "            if x in pages_before[y] and i > j:\n",
    "                return False\n",
    "    return True\n",
    "\n",
    "# reorganiza a sequência e torná-la válida\n",
    "def make_sequence_valid(sequence, pages_before, pages_after):\n",
    "    ordered_sequence = []\n",
    "    queue = deque([])\n",
    "    \n",
    "    remaining_dependencies = {v: len(pages_before[v] & set(sequence)) for v in sequence}\n",
    "    for v in sequence:\n",
    "        if remaining_dependencies[v] == 0: # adicionar as páginas sem dependências\n",
    "            queue.append(v)\n",
    "    \n",
    "    # organizar as páginas respeitando as dependências\n",
    "    while queue:\n",
    "        x = queue.popleft()\n",
    "        ordered_sequence.append(x)\n",
    "        for y in pages_after[x]:\n",
    "            if y in remaining_dependencies:\n",
    "                remaining_dependencies[y] -= 1\n",
    "                if remaining_dependencies[y] == 0:\n",
    "                    queue.append(y)\n",
    "    \n",
    "    return ordered_sequence\n",
    "\n",
    "\n",
    "for atualization in atualizations:\n",
    "    atualization = list(map(int, atualization.split(',')))\n",
    "    sequence_valid = is_sequence_valid(atualization, pages_before)\n",
    "    if not sequence_valid:\n",
    "        ordered_sequence = make_sequence_valid(atualization, pages_before, pages_after)\n",
    "        accumulated += ordered_sequence[len(ordered_sequence) // 2]\n",
    "print(accumulated)\n"
   ]
  }
 ],
 "metadata": {
  "kernelspec": {
   "display_name": "Python 3",
   "language": "python",
   "name": "python3"
  },
  "language_info": {
   "codemirror_mode": {
    "name": "ipython",
    "version": 3
   },
   "file_extension": ".py",
   "mimetype": "text/x-python",
   "name": "python",
   "nbconvert_exporter": "python",
   "pygments_lexer": "ipython3",
   "version": "3.10.7"
  }
 },
 "nbformat": 4,
 "nbformat_minor": 2
}
