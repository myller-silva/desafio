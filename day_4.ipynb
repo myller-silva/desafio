{
 "cells": [
  {
   "cell_type": "markdown",
   "metadata": {},
   "source": [
    "# Part 1"
   ]
  },
  {
   "cell_type": "code",
   "execution_count": 3,
   "metadata": {},
   "outputs": [
    {
     "name": "stdout",
     "output_type": "stream",
     "text": [
      "401 411 818 784\n",
      "2414\n"
     ]
    }
   ],
   "source": [
    "def read_content(file_path):\n",
    "    result = \"\"\n",
    "    with open(file_path, \"r\", encoding=\"utf-8\") as arquivo:\n",
    "        for linha in arquivo:\n",
    "            result += linha  # +\"\\n\"\n",
    "    return result\n",
    "\n",
    "\n",
    "def count_word(matrix, w):\n",
    "    count = 0\n",
    "    count += matrix.count(w)\n",
    "    count += matrix.count(w[::-1])\n",
    "    return count\n",
    "\n",
    "def transpose_content(content):\n",
    "    linhas = content.splitlines()\n",
    "    transposto = [\"\".join(coluna) for coluna in zip(*linhas)]\n",
    "    return \"\\n\".join(transposto)\n",
    "\n",
    "\n",
    "def rotate_principal_diagonal(content):\n",
    "    linhas = content.splitlines()\n",
    "    n = len(linhas)\n",
    "    m = len(linhas[0]) if linhas else 0  # n colunas\n",
    "\n",
    "    diagonais = []\n",
    "\n",
    "    # diagonais principais (esquerda para a direita)\n",
    "    for diag_start in range(-(n - 1), m):\n",
    "        diagonal = []\n",
    "        for i in range(n):\n",
    "            j = diag_start + i\n",
    "            if 0 <= j < m:\n",
    "                diagonal.append(linhas[i][j])\n",
    "        diagonais.append(\"\".join(diagonal))\n",
    "\n",
    "    return \"\\n\".join(diagonais)\n",
    "\n",
    "\n",
    "def rotate_secundaria_diagonal(content):\n",
    "    linhas = content.splitlines()\n",
    "    n = len(linhas)\n",
    "    m = len(linhas[0]) if linhas else 0  # n colunas\n",
    "\n",
    "    diagonais = []\n",
    "\n",
    "    # diagonais secundárias (direita para a esquerda)\n",
    "    for diag_start in range(n + m - 1):\n",
    "        diagonal = []\n",
    "        for i in range(n):\n",
    "            j = diag_start - i\n",
    "            if 0 <= j < m:\n",
    "                diagonal.append(linhas[i][j])\n",
    "        diagonais.append(\"\".join(diagonal))\n",
    "\n",
    "    return \"\\n\".join(diagonais)\n",
    "\n",
    "\n",
    "\n",
    "\n",
    "word = \"XMAS\"\n",
    "\n",
    "content = read_content(\"inputs/4.txt\")\n",
    "\n",
    "# linhas\n",
    "count_row = count_word(content, word)\n",
    "\n",
    "# colunas\n",
    "count_col = count_word(transpose_content(content), word)\n",
    "\n",
    "# diagonais principais e secundárias\n",
    "count_diag_principal = count_word(rotate_principal_diagonal(content), word)\n",
    "count_diag_secundaria = count_word(rotate_secundaria_diagonal(content), word)\n",
    "\n",
    "print(count_col, count_row, count_diag_principal, count_diag_secundaria)\n",
    "print(count_row + count_col + count_diag_principal + count_diag_secundaria)"
   ]
  },
  {
   "cell_type": "markdown",
   "metadata": {},
   "source": [
    "# Part 2"
   ]
  },
  {
   "cell_type": "code",
   "execution_count": 4,
   "metadata": {},
   "outputs": [
    {
     "data": {
      "text/plain": [
       "1871"
      ]
     },
     "execution_count": 4,
     "metadata": {},
     "output_type": "execute_result"
    }
   ],
   "source": [
    "def verify_submatrix(submatrix, word):\n",
    "    d_principal = \"\".join([submatrix[i][i] for i in range(3)])\n",
    "    d_secundaria = \"\".join([submatrix[i][2-i] for i in range(3)])\n",
    "    if d_principal == word and d_secundaria == word:\n",
    "        return True\n",
    "    if d_principal == word[::-1] and d_secundaria == word[::-1]:\n",
    "        return True\n",
    "    if d_principal == word and d_secundaria == word[::-1]:\n",
    "        return True\n",
    "    if d_principal == word[::-1] and d_secundaria == word:\n",
    "        return True\n",
    "    return False\n",
    "\n",
    "\n",
    "def count_pattern(matrix, word):\n",
    "    m, n = len(matrix), len(matrix[0])\n",
    "    pm, pn = 3, 3  # dimensões da submatriz 3x3\n",
    "    count = 0\n",
    "    for i in range(m - pm + 1):\n",
    "        for j in range(n - pn + 1):\n",
    "            submatrix = [row[j:j + pn] for row in matrix[i:i + pm]]\n",
    "            if verify_submatrix(submatrix, word):\n",
    "                count += 1\n",
    "    return count\n",
    "\n",
    "def read_content_part_2(file):\n",
    "    with open(file, \"r\", encoding=\"utf-8\") as arquivo:\n",
    "        return [list(linha.strip()) for linha in arquivo]\n",
    "\n",
    "word = \"MAS\"\n",
    "content = read_content_part_2(\"inputs/4.txt\")\n",
    "result = count_pattern(content, word)\n",
    "result"
   ]
  },
  {
   "cell_type": "code",
   "execution_count": null,
   "metadata": {},
   "outputs": [],
   "source": []
  }
 ],
 "metadata": {
  "kernelspec": {
   "display_name": "Python 3",
   "language": "python",
   "name": "python3"
  },
  "language_info": {
   "codemirror_mode": {
    "name": "ipython",
    "version": 3
   },
   "file_extension": ".py",
   "mimetype": "text/x-python",
   "name": "python",
   "nbconvert_exporter": "python",
   "pygments_lexer": "ipython3",
   "version": "3.10.7"
  }
 },
 "nbformat": 4,
 "nbformat_minor": 2
}
