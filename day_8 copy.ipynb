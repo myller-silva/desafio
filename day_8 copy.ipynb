{
 "cells": [
  {
   "cell_type": "code",
   "execution_count": 1,
   "metadata": {},
   "outputs": [],
   "source": [
    "def distancia_euclidiana(p: tuple, q: tuple) -> float:\n",
    "    x1, y1 = p\n",
    "    x2, y2 = q\n",
    "    return ((x2 - x1)**2 + (y2 - y1)**2)**0.5\n",
    "\n",
    "# distancia_euclidiana((1, 1), (0, 0))  # 5.0\n"
   ]
  },
  {
   "cell_type": "code",
   "execution_count": 2,
   "metadata": {},
   "outputs": [],
   "source": [
    "def read_file(filename: str) -> list:\n",
    "    result = []\n",
    "    with open(filename) as f:\n",
    "        for line in f:\n",
    "            temp = []\n",
    "            for elem in line.strip():\n",
    "                temp.append(elem)\n",
    "            result.append(temp)\n",
    "    return result\n",
    "content = read_file('inputs/8.txt')\n"
   ]
  },
  {
   "cell_type": "code",
   "execution_count": 3,
   "metadata": {},
   "outputs": [
    {
     "data": {
      "text/plain": [
       "[(1, 3), (1, -1), (3, 1), (-1, 1)]"
      ]
     },
     "execution_count": 3,
     "metadata": {},
     "output_type": "execute_result"
    }
   ],
   "source": [
    "def get_pontos(p: tuple) -> list:\n",
    "    result = []\n",
    "    x, y = p\n",
    "    distancia = 2\n",
    "    pontos = [(x, y + distancia), (x, y - distancia), (x + distancia, y), (x - distancia, y)]\n",
    "    for ponto in pontos:\n",
    "        result.append(ponto)\n",
    "    return result\n",
    "\n",
    "get_pontos((1, 1))  # [(1, 3), (1, -1), (3, 1), (-1, 1)]"
   ]
  },
  {
   "cell_type": "code",
   "execution_count": null,
   "metadata": {},
   "outputs": [
    {
     "name": "stdout",
     "output_type": "stream",
     "text": [
      "348\n",
      "1221\n"
     ]
    }
   ],
   "source": [
    "def get_antenas(mapa):\n",
    "    antenas = dict()\n",
    "    for i, linha in enumerate(mapa):\n",
    "        for j, elem in enumerate(linha):\n",
    "            if elem.isdigit() or elem.isalpha():\n",
    "                if elem in antenas:\n",
    "                    antenas[elem].append((i, j))\n",
    "                else:\n",
    "                    antenas[elem] = [(i, j)]\n",
    "    return antenas\n",
    "\n",
    "\n",
    "antenas = get_antenas(content)\n",
    "rows = len(content)\n",
    "cols = len(content[0])\n",
    "\n",
    "anti_nos = set()\n",
    "anti_nos2 = set()\n",
    "\n",
    "for row in range(rows):\n",
    "    for col in range(cols):\n",
    "        for (k, v) in antenas.items():\n",
    "            for (x1, y1) in v:\n",
    "                for (x2, y2) in v:\n",
    "                    if (x1, y1) != (x2, y2):\n",
    "                        d1 = abs(row - x1) + abs(col - y1)\n",
    "                        d2 = abs(row - x2) + abs(col - y2)\n",
    "                        \n",
    "                        dr1, dr2 = row - x1, row - x2\n",
    "                        dc1, dc2 = col - y1, col - y2\n",
    "                        \n",
    "                        if (d1 == 2*d2 or d1*2 == d2) and (dr1 *dc2 == dc1*dr2):\n",
    "                            #print(row, col, k, v, d1, d2)\n",
    "                            anti_nos.add((row, col))\n",
    "                        \n",
    "                        if (dr1*dc2 == dc1*dr2):\n",
    "                            anti_nos2.add((row, col))\n",
    "print(len(anti_nos))\n",
    "print(len(anti_nos2))"
   ]
  }
 ],
 "metadata": {
  "kernelspec": {
   "display_name": "Python 3",
   "language": "python",
   "name": "python3"
  },
  "language_info": {
   "codemirror_mode": {
    "name": "ipython",
    "version": 3
   },
   "file_extension": ".py",
   "mimetype": "text/x-python",
   "name": "python",
   "nbconvert_exporter": "python",
   "pygments_lexer": "ipython3",
   "version": "3.10.7"
  }
 },
 "nbformat": 4,
 "nbformat_minor": 2
}
