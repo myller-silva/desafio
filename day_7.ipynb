{
 "cells": [
  {
   "cell_type": "code",
   "execution_count": 1,
   "metadata": {},
   "outputs": [],
   "source": [
    "def read_file(file_path):\n",
    "    result = []\n",
    "    with open(file_path, 'r') as file:\n",
    "        for line in file:\n",
    "            x, y = line.split(\":\")\n",
    "            x, y = int(x), list(map(int, y.split()))\n",
    "            result.append((x, y))\n",
    "    return result\n",
    "\n",
    "content = read_file(\"inputs/7.txt\")\n",
    "\n",
    "# operators = [\"+\", \"*\"]"
   ]
  },
  {
   "cell_type": "code",
   "execution_count": 2,
   "metadata": {},
   "outputs": [
    {
     "name": "stdout",
     "output_type": "stream",
     "text": [
      "Resultado: 1289579105366\n"
     ]
    }
   ],
   "source": [
    "from itertools import product\n",
    "\n",
    "\n",
    "def evaluate_expression(numbers, operators):\n",
    "    # avaliar a expressão com a ordem estritamente da esquerda para a direita\n",
    "    result = numbers[0]\n",
    "    for i, op in enumerate(operators):\n",
    "        if op == \"+\":\n",
    "            result += numbers[i + 1]\n",
    "        elif op == \"*\":\n",
    "            result *= numbers[i + 1]\n",
    "    return result\n",
    "\n",
    "\n",
    "def solve_calibration(input_data):\n",
    "    total_calibration = 0\n",
    "\n",
    "    for i, test in enumerate(input_data):\n",
    "        target, numbers = test\n",
    "        n = len(numbers)\n",
    "\n",
    "        # gerar todas as combinações de operadores\n",
    "        possible_operators = product(\"+*\", repeat=n - 1)\n",
    "\n",
    "        for ops in possible_operators:\n",
    "            if evaluate_expression(numbers, ops) == target:\n",
    "                total_calibration += target\n",
    "                break  # nao precisa testar mais combinações para essa linha\n",
    "\n",
    "    return total_calibration\n",
    "\n",
    "\n",
    "# exemple = [\n",
    "#     (190, [10, 19]),\n",
    "#     (3267, [81, 40, 27]),\n",
    "#     (83, [17, 5]),\n",
    "#     (156, [15, 6]),\n",
    "#     (7290, [6, 8, 6, 15]),\n",
    "#     (161011, [16, 10, 13]),\n",
    "#     (192, [17, 8, 14]),\n",
    "#     (21037, [9, 7, 18, 13]),\n",
    "#     (292, [11, 6, 16, 20]),\n",
    "# ]\n",
    "\n",
    "\n",
    "total_calibration = solve_calibration(content)\n",
    "print(\"Resultado:\", total_calibration)"
   ]
  },
  {
   "cell_type": "code",
   "execution_count": 3,
   "metadata": {},
   "outputs": [
    {
     "name": "stdout",
     "output_type": "stream",
     "text": [
      "Resultado: 92148721834692\n"
     ]
    }
   ],
   "source": [
    "from itertools import product\n",
    "\n",
    "\n",
    "def evaluate_expression(numbers, operators):\n",
    "    # avaliar a expressão com a ordem estritamente da esquerda para a direita\n",
    "    result = numbers[0]\n",
    "    for i, op in enumerate(operators):\n",
    "        if op == \"+\":\n",
    "            result += numbers[i + 1]\n",
    "        elif op == \"*\":\n",
    "            result *= numbers[i + 1]\n",
    "        elif op == \"||\":\n",
    "            result = int(f\"{result}{numbers[i + 1]}\")\n",
    "    return result\n",
    "\n",
    "\n",
    "def solve_calibration(input_data):\n",
    "    total_calibration = 0\n",
    "    operators = [\"+\", \"*\", \"||\"]\n",
    "\n",
    "    for i, test in enumerate(input_data):\n",
    "        print(i, end=\"\\r\")\n",
    "        target, numbers = test\n",
    "        n = len(numbers)\n",
    "\n",
    "        # gerar todas as combinações de operadores\n",
    "        possible_operators = product(operators, repeat=n - 1)\n",
    "\n",
    "        for ops in possible_operators:\n",
    "            if evaluate_expression(numbers, ops) == target:\n",
    "                total_calibration += target\n",
    "                break  # nao precisa testar mais combinações para essa linha\n",
    "\n",
    "    return total_calibration\n",
    "\n",
    "\n",
    "exemple = [\n",
    "    (190, [10, 19]),\n",
    "    (3267, [81, 40, 27]),\n",
    "    (83, [17, 5]),\n",
    "    (156, [15, 6]),\n",
    "    (7290, [6, 8, 6, 15]),\n",
    "    (161011, [16, 10, 13]),\n",
    "    (192, [17, 8, 14]),\n",
    "    (21037, [9, 7, 18, 13]),\n",
    "    (292, [11, 6, 16, 20]),\n",
    "]\n",
    "\n",
    "# content = exemple\n",
    "total_calibration = solve_calibration(content)\n",
    "print(\"Resultado:\", total_calibration)"
   ]
  }
 ],
 "metadata": {
  "kernelspec": {
   "display_name": "Python 3",
   "language": "python",
   "name": "python3"
  },
  "language_info": {
   "codemirror_mode": {
    "name": "ipython",
    "version": 3
   },
   "file_extension": ".py",
   "mimetype": "text/x-python",
   "name": "python",
   "nbconvert_exporter": "python",
   "pygments_lexer": "ipython3",
   "version": "3.10.7"
  }
 },
 "nbformat": 4,
 "nbformat_minor": 2
}
