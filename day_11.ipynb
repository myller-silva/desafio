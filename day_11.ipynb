{
 "cells": [
  {
   "cell_type": "code",
   "execution_count": 1,
   "metadata": {},
   "outputs": [],
   "source": [
    "from collections import deque"
   ]
  },
  {
   "cell_type": "markdown",
   "metadata": {},
   "source": [
    "# Part 1"
   ]
  },
  {
   "cell_type": "code",
   "execution_count": 2,
   "metadata": {},
   "outputs": [],
   "source": [
    "\n",
    "\n",
    "def count_digit(n):\n",
    "    count = 0\n",
    "    while n > 0:\n",
    "        count += 1\n",
    "        n //= 10\n",
    "    return count\n",
    "\n",
    "def split_number_in_half(n):\n",
    "    num_digits = 0\n",
    "    temp = n\n",
    "    while temp > 0:\n",
    "        temp //= 10\n",
    "        num_digits += 1\n",
    "    \n",
    "    divisor = 10 ** (num_digits // 2)\n",
    "    return n // divisor, n % divisor\n",
    "\n",
    "\n",
    "def blinks_part1(initial_deque: deque, n_blinks: int):\n",
    "    # print(\"Initial deque\", initial_deque)\n",
    "    for i in range(n_blinks):\n",
    "        new_deque = deque()\n",
    "        for stone in initial_deque:\n",
    "            stone_changed = change_stone(stone)\n",
    "            new_deque.extend(stone_changed)\n",
    "        # print(f\"Blink {i + 1}\", new_deque)\n",
    "        initial_deque = new_deque\n",
    "    return new_deque\n",
    "\n",
    "def change_stone(stone, multiplier=2024):\n",
    "    if stone == 0:\n",
    "        return deque([1])\n",
    "    elif count_digit(stone) % 2 == 0:\n",
    "        p1, p2 = split_number_in_half(stone)\n",
    "        return deque([p1, p2])\n",
    "    else:\n",
    "        return deque([stone * multiplier])\n",
    "\n"
   ]
  },
  {
   "cell_type": "code",
   "execution_count": 3,
   "metadata": {},
   "outputs": [
    {
     "name": "stdout",
     "output_type": "stream",
     "text": [
      "deque([4, 4841539, 66, 5279, 49207, 134, 609568, 0]) 25\n"
     ]
    },
    {
     "data": {
      "text/plain": [
       "212655"
      ]
     },
     "execution_count": 3,
     "metadata": {},
     "output_type": "execute_result"
    }
   ],
   "source": [
    "with open('inputs/11.txt', 'r') as file:\n",
    "    content = file.read()\n",
    "    content = content.strip().split('\\n')\n",
    "    content = [line.split() for line in content]\n",
    "    # transformando em inteiros\n",
    "    content = [[int(num) for num in line] for line in content]\n",
    "\n",
    "content[0]\n",
    "\n",
    "d = deque(content[0])\n",
    "n_blinks = 25\n",
    "print(d, n_blinks)\n",
    "p1 = blinks_part1(d, n_blinks)\n",
    "len(p1)"
   ]
  },
  {
   "cell_type": "markdown",
   "metadata": {},
   "source": [
    "# Part 2"
   ]
  },
  {
   "cell_type": "code",
   "execution_count": 4,
   "metadata": {},
   "outputs": [
    {
     "name": "stdout",
     "output_type": "stream",
     "text": [
      "55312\n"
     ]
    }
   ],
   "source": [
    "def calculate_size_of_stone(stone, blink, memo):\n",
    "    # print(memo, stone, blink)\n",
    "    if (stone, blink) in memo:\n",
    "        return memo[(stone, blink)]\n",
    "    if blink == 0: \n",
    "        return 1 # se não houver mais blinks, a quantidade de stones que serao \"geradas\" a partir de uma stone é 1\n",
    "    else:\n",
    "        new_stones = change_stone(stone)\n",
    "        total = 0\n",
    "        for new_stone in new_stones:\n",
    "            total += calculate_size_of_stone(new_stone, blink - 1, memo)\n",
    "        memo[(stone, blink)] = total\n",
    "        return total\n",
    "\n",
    "\n",
    "def stones_memo(stones: deque, n_blinks: int):\n",
    "    memo = {}\n",
    "    for stone in stones:\n",
    "        calculate_size_of_stone(stone, n_blinks, memo)\n",
    "    tot = 0\n",
    "    for stone in stones:\n",
    "        tot += memo[(stone, n_blinks)]\n",
    "    return tot\n",
    "\n",
    "\n",
    "d = deque([125, 17])\n",
    "n_blinks = 25\n",
    "test = stones_memo(d, n_blinks)\n",
    "print(test)"
   ]
  },
  {
   "cell_type": "code",
   "execution_count": 5,
   "metadata": {},
   "outputs": [
    {
     "data": {
      "text/plain": [
       "65601038650482"
      ]
     },
     "execution_count": 5,
     "metadata": {},
     "output_type": "execute_result"
    }
   ],
   "source": [
    "n_blinks = 75\n",
    "p2 = stones_memo(d, n_blinks)\n",
    "p2 \n"
   ]
  }
 ],
 "metadata": {
  "kernelspec": {
   "display_name": "Python 3",
   "language": "python",
   "name": "python3"
  },
  "language_info": {
   "codemirror_mode": {
    "name": "ipython",
    "version": 3
   },
   "file_extension": ".py",
   "mimetype": "text/x-python",
   "name": "python",
   "nbconvert_exporter": "python",
   "pygments_lexer": "ipython3",
   "version": "3.10.7"
  }
 },
 "nbformat": 4,
 "nbformat_minor": 2
}
